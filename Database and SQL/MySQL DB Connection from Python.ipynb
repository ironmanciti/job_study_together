{
 "cells": [
  {
   "cell_type": "markdown",
   "metadata": {},
   "source": [
    "# DB Connection 2 가지 방법\n",
    "\n",
    "1. pymysql \n",
    "\n",
    "1. sqlalchemy "
   ]
  },
  {
   "cell_type": "code",
   "execution_count": 1,
   "metadata": {},
   "outputs": [],
   "source": [
    "import pandas as pd"
   ]
  },
  {
   "cell_type": "markdown",
   "metadata": {},
   "source": [
    "## 1. 순수 Python"
   ]
  },
  {
   "cell_type": "code",
   "execution_count": 2,
   "metadata": {},
   "outputs": [
    {
     "name": "stdout",
     "output_type": "stream",
     "text": [
      "Connected to database : host - localhost, user - root,\n"
     ]
    }
   ],
   "source": [
    "#----vanila mysql connect --------------------------------\n",
    "import pymysql.cursors\n",
    "\n",
    "host = 'localhost'\n",
    "user_id = 'root'\n",
    "pswd = 'Password12345'\n",
    "database = 'test_schema'\n",
    "try:\n",
    "    con = pymysql.connect(host=host, user=user_id, password=pswd, db=database, charset='utf8mb4')\n",
    "    print(f\"Connected to database : host - {host}, user - {user_id},\")\n",
    "except:\n",
    "    print(f\"Connection failed {con}\")\n",
    "    \n",
    "cursor = con.cursor()"
   ]
  },
  {
   "cell_type": "code",
   "execution_count": 3,
   "metadata": {},
   "outputs": [
    {
     "name": "stdout",
     "output_type": "stream",
     "text": [
      "0\n"
     ]
    }
   ],
   "source": [
    "cursor.execute('DROP TABLE IF EXISTS Trucks')\n",
    "stmt = cursor.execute('CREATE TABLE Trucks(\\\n",
    "                      serial_no varchar(20) PRIMARY KEY NOT NULL, \\\n",
    "                      model VARCHAR(20) NOT NULL, \\\n",
    "                      manufacturer VARCHAR(20) NOT NULL, \\\n",
    "                      Engine_size VARCHAR(20) NOT NULL, \\\n",
    "                      Truck_Class VARCHAR(20) NOT NULL)')\n",
    "print(stmt)"
   ]
  },
  {
   "cell_type": "markdown",
   "metadata": {},
   "source": [
    "## insert record"
   ]
  },
  {
   "cell_type": "code",
   "execution_count": 4,
   "metadata": {},
   "outputs": [
    {
     "name": "stdout",
     "output_type": "stream",
     "text": [
      "3\n"
     ]
    }
   ],
   "source": [
    "stmt = cursor.execute(\"INSERT INTO Trucks(serial_no, model, manufacturer, Engine_size, Truck_Class) \\\n",
    "                VALUES('A1234', 'Lonestar', 'International Trucks', 'Cummins ISX15', 'Class 8'), \\\n",
    "                            ('B5432', 'Volvo', 'Volvo Trucks', 'Volvo D11', 'Class 8'), \\\n",
    "                            ('C1278', 'Hyundai', 'Hyundai Trucks', 'Truck Co', 'Class 8')\")\n",
    "print(stmt)"
   ]
  },
  {
   "cell_type": "markdown",
   "metadata": {},
   "source": [
    "## query"
   ]
  },
  {
   "cell_type": "code",
   "execution_count": 5,
   "metadata": {},
   "outputs": [
    {
     "name": "stdout",
     "output_type": "stream",
     "text": [
      "('A1234', 'Lonestar', 'International Trucks', 'Cummins ISX15', 'Class 8')\n",
      "(('B5432', 'Volvo', 'Volvo Trucks', 'Volvo D11', 'Class 8'), ('C1278', 'Hyundai', 'Hyundai Trucks', 'Truck Co', 'Class 8'))\n"
     ]
    }
   ],
   "source": [
    "cursor.execute('select * from Trucks')\n",
    "row = cursor.fetchone()\n",
    "print(row)\n",
    "\n",
    "row = cursor.fetchall()\n",
    "print(row)"
   ]
  },
  {
   "cell_type": "markdown",
   "metadata": {},
   "source": [
    "## Using Pandas"
   ]
  },
  {
   "cell_type": "code",
   "execution_count": 6,
   "metadata": {},
   "outputs": [
    {
     "data": {
      "text/html": [
       "<div>\n",
       "<style scoped>\n",
       "    .dataframe tbody tr th:only-of-type {\n",
       "        vertical-align: middle;\n",
       "    }\n",
       "\n",
       "    .dataframe tbody tr th {\n",
       "        vertical-align: top;\n",
       "    }\n",
       "\n",
       "    .dataframe thead th {\n",
       "        text-align: right;\n",
       "    }\n",
       "</style>\n",
       "<table border=\"1\" class=\"dataframe\">\n",
       "  <thead>\n",
       "    <tr style=\"text-align: right;\">\n",
       "      <th></th>\n",
       "      <th>serial_no</th>\n",
       "      <th>model</th>\n",
       "      <th>manufacturer</th>\n",
       "      <th>Engine_size</th>\n",
       "      <th>Truck_Class</th>\n",
       "    </tr>\n",
       "  </thead>\n",
       "  <tbody>\n",
       "    <tr>\n",
       "      <th>0</th>\n",
       "      <td>A1234</td>\n",
       "      <td>Lonestar</td>\n",
       "      <td>International Trucks</td>\n",
       "      <td>Cummins ISX15</td>\n",
       "      <td>Class 8</td>\n",
       "    </tr>\n",
       "    <tr>\n",
       "      <th>1</th>\n",
       "      <td>B5432</td>\n",
       "      <td>Volvo</td>\n",
       "      <td>Volvo Trucks</td>\n",
       "      <td>Volvo D11</td>\n",
       "      <td>Class 8</td>\n",
       "    </tr>\n",
       "    <tr>\n",
       "      <th>2</th>\n",
       "      <td>C1278</td>\n",
       "      <td>Hyundai</td>\n",
       "      <td>Hyundai Trucks</td>\n",
       "      <td>Truck Co</td>\n",
       "      <td>Class 8</td>\n",
       "    </tr>\n",
       "  </tbody>\n",
       "</table>\n",
       "</div>"
      ],
      "text/plain": [
       "  serial_no     model          manufacturer    Engine_size Truck_Class\n",
       "0     A1234  Lonestar  International Trucks  Cummins ISX15     Class 8\n",
       "1     B5432     Volvo          Volvo Trucks      Volvo D11     Class 8\n",
       "2     C1278   Hyundai        Hyundai Trucks       Truck Co     Class 8"
      ]
     },
     "execution_count": 6,
     "metadata": {},
     "output_type": "execute_result"
    }
   ],
   "source": [
    "df = pd.read_sql(\"select * from Trucks\", con=con)\n",
    "df"
   ]
  },
  {
   "cell_type": "markdown",
   "metadata": {},
   "source": [
    "## commit"
   ]
  },
  {
   "cell_type": "code",
   "execution_count": 7,
   "metadata": {},
   "outputs": [],
   "source": [
    "con.commit()\n",
    "con.close()"
   ]
  },
  {
   "cell_type": "markdown",
   "metadata": {},
   "source": [
    "## 2. sqlalchemy"
   ]
  },
  {
   "cell_type": "code",
   "execution_count": 8,
   "metadata": {},
   "outputs": [],
   "source": [
    "import sqlalchemy\n",
    "from sqlalchemy import create_engine\n",
    "engine = create_engine(f\"mysql+pymysql://{user_id }:{pswd}@{host}/{database}?charset=utf8\", convert_unicode=True)\n",
    "conn = engine.connect()\n",
    "transaction = conn.begin()"
   ]
  },
  {
   "cell_type": "code",
   "execution_count": 9,
   "metadata": {},
   "outputs": [
    {
     "data": {
      "text/html": [
       "<div>\n",
       "<style scoped>\n",
       "    .dataframe tbody tr th:only-of-type {\n",
       "        vertical-align: middle;\n",
       "    }\n",
       "\n",
       "    .dataframe tbody tr th {\n",
       "        vertical-align: top;\n",
       "    }\n",
       "\n",
       "    .dataframe thead th {\n",
       "        text-align: right;\n",
       "    }\n",
       "</style>\n",
       "<table border=\"1\" class=\"dataframe\">\n",
       "  <thead>\n",
       "    <tr style=\"text-align: right;\">\n",
       "      <th></th>\n",
       "      <th>serial_no</th>\n",
       "      <th>model</th>\n",
       "      <th>manufacturer</th>\n",
       "      <th>Engine_size</th>\n",
       "      <th>Truck_Class</th>\n",
       "    </tr>\n",
       "  </thead>\n",
       "  <tbody>\n",
       "    <tr>\n",
       "      <th>0</th>\n",
       "      <td>A1234</td>\n",
       "      <td>Lonestar</td>\n",
       "      <td>International Trucks</td>\n",
       "      <td>Cummins ISX15</td>\n",
       "      <td>Class 8</td>\n",
       "    </tr>\n",
       "    <tr>\n",
       "      <th>1</th>\n",
       "      <td>B5432</td>\n",
       "      <td>Volvo</td>\n",
       "      <td>Volvo Trucks</td>\n",
       "      <td>Volvo D11</td>\n",
       "      <td>Class 8</td>\n",
       "    </tr>\n",
       "    <tr>\n",
       "      <th>2</th>\n",
       "      <td>C1278</td>\n",
       "      <td>Hyundai</td>\n",
       "      <td>Hyundai Trucks</td>\n",
       "      <td>Truck Co</td>\n",
       "      <td>Class 8</td>\n",
       "    </tr>\n",
       "  </tbody>\n",
       "</table>\n",
       "</div>"
      ],
      "text/plain": [
       "  serial_no     model          manufacturer    Engine_size Truck_Class\n",
       "0     A1234  Lonestar  International Trucks  Cummins ISX15     Class 8\n",
       "1     B5432     Volvo          Volvo Trucks      Volvo D11     Class 8\n",
       "2     C1278   Hyundai        Hyundai Trucks       Truck Co     Class 8"
      ]
     },
     "execution_count": 9,
     "metadata": {},
     "output_type": "execute_result"
    }
   ],
   "source": [
    "df = pd.read_sql(\"select * from Trucks\", con=conn)\n",
    "df.head()"
   ]
  }
 ],
 "metadata": {
  "kernelspec": {
   "display_name": "Python 3",
   "language": "python",
   "name": "python3"
  },
  "language_info": {
   "codemirror_mode": {
    "name": "ipython",
    "version": 3
   },
   "file_extension": ".py",
   "mimetype": "text/x-python",
   "name": "python",
   "nbconvert_exporter": "python",
   "pygments_lexer": "ipython3",
   "version": "3.7.6"
  }
 },
 "nbformat": 4,
 "nbformat_minor": 2
}
