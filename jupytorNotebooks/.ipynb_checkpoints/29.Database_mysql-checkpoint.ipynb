{
 "cells": [
  {
   "cell_type": "code",
   "execution_count": 18,
   "metadata": {},
   "outputs": [],
   "source": [
    "import pymysql.cursors\n",
    "con = pymysql.connect(host='localhost', user='root', password='Password12345', \n",
    "                     db=\"stockdb\", charset='utf8mb4')"
   ]
  },
  {
   "cell_type": "code",
   "execution_count": 21,
   "metadata": {},
   "outputs": [],
   "source": [
    "cur = con.cursor()"
   ]
  },
  {
   "cell_type": "code",
   "execution_count": 25,
   "metadata": {},
   "outputs": [
    {
     "data": {
      "text/plain": [
       "10"
      ]
     },
     "execution_count": 25,
     "metadata": {},
     "output_type": "execute_result"
    }
   ],
   "source": [
    "sql = \"select * from stockcode limit 10\"\n",
    "\n",
    "cur.execute(sql)"
   ]
  },
  {
   "cell_type": "code",
   "execution_count": 26,
   "metadata": {},
   "outputs": [
    {
     "data": {
      "text/plain": [
       "(('000020', '동화약품', '0', 0),\n",
       " ('000040', 'KR모터스', '0', 0),\n",
       " ('000050', '경방', '0', 0),\n",
       " ('000060', '메리츠화재', '0', 0),\n",
       " ('000070', '삼양홀딩스', '0', 1),\n",
       " ('000075', '삼양홀딩스우', '0', 0),\n",
       " ('000080', '하이트진로', '0', 1),\n",
       " ('000087', '하이트진로2우B', '0', 0),\n",
       " ('000100', '유한양행', '0', 1),\n",
       " ('000105', '유한양행우', '0', 0))"
      ]
     },
     "execution_count": 26,
     "metadata": {},
     "output_type": "execute_result"
    }
   ],
   "source": [
    "cur.fetchall()"
   ]
  },
  {
   "cell_type": "code",
   "execution_count": null,
   "metadata": {},
   "outputs": [],
   "source": []
  }
 ],
 "metadata": {
  "kernelspec": {
   "display_name": "Python 3",
   "language": "python",
   "name": "python3"
  },
  "language_info": {
   "codemirror_mode": {
    "name": "ipython",
    "version": 3
   },
   "file_extension": ".py",
   "mimetype": "text/x-python",
   "name": "python",
   "nbconvert_exporter": "python",
   "pygments_lexer": "ipython3",
   "version": "3.7.6"
  }
 },
 "nbformat": 4,
 "nbformat_minor": 4
}
