{
 "cells": [
  {
   "cell_type": "code",
   "execution_count": 1,
   "metadata": {},
   "outputs": [
    {
     "name": "stdout",
     "output_type": "stream",
     "text": [
      "Requirement already satisfied: pymysql in c:\\users\\trimu\\miniconda3\\envs\\tf20\\lib\\site-packages (0.10.0)"
     ]
    },
    {
     "name": "stderr",
     "output_type": "stream",
     "text": [
      "WARNING: You are using pip version 20.1.1; however, version 20.2.3 is available.\n",
      "You should consider upgrading via the 'c:\\users\\trimu\\miniconda3\\envs\\tf20\\python.exe -m pip install --upgrade pip' command.\n"
     ]
    },
    {
     "name": "stdout",
     "output_type": "stream",
     "text": [
      "\n"
     ]
    }
   ],
   "source": [
    "!pip install pymysql"
   ]
  },
  {
   "cell_type": "code",
   "execution_count": 3,
   "metadata": {},
   "outputs": [
    {
     "name": "stdout",
     "output_type": "stream",
     "text": [
      "connect success\n"
     ]
    }
   ],
   "source": [
    "import pymysql.cursors\n",
    "\n",
    "host = 'localhost'\n",
    "user_id = 'root'\n",
    "pswd = 'Password12345'\n",
    "db = 'test_db'\n",
    "\n",
    "try:\n",
    "    con = pymysql.connect(host=host, user=user_id, password=pswd, db=db, charset='utf8mb4')\n",
    "    print('connect success')\n",
    "except Exception as e:\n",
    "    print(e)"
   ]
  },
  {
   "cell_type": "code",
   "execution_count": 5,
   "metadata": {},
   "outputs": [],
   "source": [
    "sql = \"select F_NAME, L_NAME, START_DATE from employees join job_history on EMP_ID = EMPL_ID where dep_id = '5';\""
   ]
  },
  {
   "cell_type": "code",
   "execution_count": 6,
   "metadata": {
    "scrolled": true
   },
   "outputs": [
    {
     "data": {
      "text/plain": [
       "(('Alice', 'James', datetime.date(2001, 8, 1)),\n",
       " ('Steve', 'Wells', datetime.date(2001, 8, 16)),\n",
       " ('Santosh', 'Kumar', datetime.date(2000, 8, 16)),\n",
       " ('Ann', 'Jacob', datetime.date(2016, 8, 16)))"
      ]
     },
     "execution_count": 6,
     "metadata": {},
     "output_type": "execute_result"
    }
   ],
   "source": [
    "cur = con.cursor()\n",
    "\n",
    "cur.execute(sql)\n",
    "cur.fetchall()"
   ]
  },
  {
   "cell_type": "code",
   "execution_count": null,
   "metadata": {},
   "outputs": [],
   "source": []
  },
  {
   "cell_type": "code",
   "execution_count": 2,
   "metadata": {},
   "outputs": [
    {
     "name": "stdout",
     "output_type": "stream",
     "text": [
      "table created successfully\n"
     ]
    }
   ],
   "source": [
    "try:        \n",
    "    cur.execute(\"DROP TABLE IF EXISTS Counts\")\n",
    "    cur.execute(\"CREATE TABLE Counts (email TEXT, count INTEGER)\")\n",
    "    print ('table created successfully')\n",
    "except Exception as e:\n",
    "    print ('error in operation, ', e)\n",
    "    con.rollback()\n",
    "    con.close()"
   ]
  },
  {
   "cell_type": "markdown",
   "metadata": {},
   "source": [
    "- `From: ` 으로 시작하는 record 에서 email id 를 추출하여 db 에 건수 누적 \n",
    "\n",
    "- SQL 문에서 `?` 는 placeholder 를 의미. 여러개가 올 수 있으므로 tuple 로 mapping 시킨다"
   ]
  },
  {
   "cell_type": "code",
   "execution_count": 3,
   "metadata": {},
   "outputs": [],
   "source": [
    "fname = 'emailbox-short.txt'\n",
    "fh = open(fname)\n",
    "\n",
    "for line in fh:\n",
    "    if not line.startswith('From: '):\n",
    "        continue\n",
    "    pieces = line.split()\n",
    "    email = pieces[1]\n",
    "    cur.execute('SELECT count FROM Counts WHERE email = ?', (email,))\n",
    "    row = cur.fetchone()\n",
    "    if row is None:\n",
    "        cur.execute('INSERT INTO Counts (email, count) VALUES (?, 1)', \n",
    "                        (email,))\n",
    "    else:\n",
    "        cur.execute('UPDATE Counts SET count = count + 1 WHERE email = ?', \n",
    "                        (email,))\n",
    "        \n",
    "    con.commit()"
   ]
  },
  {
   "cell_type": "markdown",
   "metadata": {},
   "source": [
    "### 입력된 data 확인"
   ]
  },
  {
   "cell_type": "code",
   "execution_count": 4,
   "metadata": {},
   "outputs": [
    {
     "name": "stdout",
     "output_type": "stream",
     "text": [
      "cwen@iupui.edu 5\n",
      "zqian@umich.edu 4\n",
      "david.horwitz@uct.ac.za 4\n",
      "louis@media.berkeley.edu 3\n",
      "gsilver@umich.edu 3\n",
      "stephen.marquard@uct.ac.za 2\n",
      "rjlowe@iupui.edu 2\n",
      "wagnermr@iupui.edu 1\n",
      "antranig@caret.cam.ac.uk 1\n",
      "gopal.ramasammycook@gmail.com 1\n"
     ]
    }
   ],
   "source": [
    "sqlstr = 'SELECT email, count FROM Counts ORDER BY count DESC LIMIT 10'\n",
    "\n",
    "for row in cur.execute(sqlstr):\n",
    "    print(row[0], row[1])"
   ]
  },
  {
   "cell_type": "code",
   "execution_count": 5,
   "metadata": {},
   "outputs": [
    {
     "data": {
      "text/plain": [
       "[('stephen.marquard@uct.ac.za', 2),\n",
       " ('louis@media.berkeley.edu', 3),\n",
       " ('zqian@umich.edu', 4),\n",
       " ('rjlowe@iupui.edu', 2),\n",
       " ('cwen@iupui.edu', 5),\n",
       " ('gsilver@umich.edu', 3),\n",
       " ('wagnermr@iupui.edu', 1),\n",
       " ('antranig@caret.cam.ac.uk', 1),\n",
       " ('gopal.ramasammycook@gmail.com', 1),\n",
       " ('david.horwitz@uct.ac.za', 4),\n",
       " ('ray@media.berkeley.edu', 1)]"
      ]
     },
     "execution_count": 5,
     "metadata": {},
     "output_type": "execute_result"
    }
   ],
   "source": [
    "cur.execute('SELECT email, count FROM Counts')\n",
    "cur.fetchall()"
   ]
  },
  {
   "cell_type": "code",
   "execution_count": 6,
   "metadata": {},
   "outputs": [
    {
     "data": {
      "text/plain": [
       "('stephen.marquard@uct.ac.za', 2)"
      ]
     },
     "execution_count": 6,
     "metadata": {},
     "output_type": "execute_result"
    }
   ],
   "source": [
    "cur.execute('SELECT email, count FROM Counts')\n",
    "cur.fetchone()"
   ]
  },
  {
   "cell_type": "code",
   "execution_count": 7,
   "metadata": {},
   "outputs": [
    {
     "data": {
      "text/plain": [
       "('louis@media.berkeley.edu', 3)"
      ]
     },
     "execution_count": 7,
     "metadata": {},
     "output_type": "execute_result"
    }
   ],
   "source": [
    "cur.fetchone()"
   ]
  },
  {
   "cell_type": "code",
   "execution_count": 8,
   "metadata": {},
   "outputs": [
    {
     "data": {
      "text/plain": [
       "('zqian@umich.edu', 4)"
      ]
     },
     "execution_count": 8,
     "metadata": {},
     "output_type": "execute_result"
    }
   ],
   "source": [
    "cur.fetchone()"
   ]
  },
  {
   "cell_type": "code",
   "execution_count": 9,
   "metadata": {},
   "outputs": [
    {
     "data": {
      "text/plain": [
       "[('rjlowe@iupui.edu', 2),\n",
       " ('cwen@iupui.edu', 5),\n",
       " ('gsilver@umich.edu', 3),\n",
       " ('wagnermr@iupui.edu', 1),\n",
       " ('antranig@caret.cam.ac.uk', 1),\n",
       " ('gopal.ramasammycook@gmail.com', 1),\n",
       " ('david.horwitz@uct.ac.za', 4),\n",
       " ('ray@media.berkeley.edu', 1)]"
      ]
     },
     "execution_count": 9,
     "metadata": {},
     "output_type": "execute_result"
    }
   ],
   "source": [
    "cur.fetchall()"
   ]
  },
  {
   "cell_type": "code",
   "execution_count": 10,
   "metadata": {},
   "outputs": [],
   "source": [
    "sql = 'INSERT INTO Counts (email, count) VALUES (?, ?);'"
   ]
  },
  {
   "cell_type": "code",
   "execution_count": 11,
   "metadata": {},
   "outputs": [
    {
     "data": {
      "text/plain": [
       "<sqlite3.Cursor at 0x2b320b9a810>"
      ]
     },
     "execution_count": 11,
     "metadata": {},
     "output_type": "execute_result"
    }
   ],
   "source": [
    "emails=[('test1@test.com', 100), \n",
    "             ('test2@test.com', 200), \n",
    "             ('test3@test.com', 300)]\n",
    "\n",
    "cur.executemany(sql, emails)"
   ]
  },
  {
   "cell_type": "code",
   "execution_count": 12,
   "metadata": {},
   "outputs": [
    {
     "data": {
      "text/plain": [
       "[('stephen.marquard@uct.ac.za', 2),\n",
       " ('louis@media.berkeley.edu', 3),\n",
       " ('zqian@umich.edu', 4),\n",
       " ('rjlowe@iupui.edu', 2),\n",
       " ('cwen@iupui.edu', 5),\n",
       " ('gsilver@umich.edu', 3),\n",
       " ('wagnermr@iupui.edu', 1),\n",
       " ('antranig@caret.cam.ac.uk', 1),\n",
       " ('gopal.ramasammycook@gmail.com', 1),\n",
       " ('david.horwitz@uct.ac.za', 4),\n",
       " ('ray@media.berkeley.edu', 1),\n",
       " ('test1@test.com', 100),\n",
       " ('test2@test.com', 200),\n",
       " ('test3@test.com', 300)]"
      ]
     },
     "execution_count": 12,
     "metadata": {},
     "output_type": "execute_result"
    }
   ],
   "source": [
    "cur.execute('SELECT email, count FROM Counts')\n",
    "cur.fetchall()"
   ]
  },
  {
   "cell_type": "markdown",
   "metadata": {},
   "source": [
    "## 연습문제\n",
    "\n",
    "- 다음 table 을 database 로 생성  \n",
    "\n",
    "- executemany( ) 를 이용하여 A1~A3 까지의 data 를 일괄 insert\n",
    "\n",
    "- 전체를 조회  \n",
    "\n",
    "- A4 를 추가로 insert  \n",
    "\n",
    "- A3 의 나이를 59 로 변경  \n",
    "\n",
    "- A1 을 삭제  \n",
    "\n",
    "- 전체를 조회\n",
    "\n",
    "\n",
    "|학생번호| 성명 |나이 |성적|\n",
    "|:------:|:-----:|---|----|\n",
    "|A1|홍길동|20|70|\n",
    "|A2|유병길|16|80|\n",
    "|A3|김길수|29|90|\n",
    "|A4|박재만|25|86|"
   ]
  },
  {
   "cell_type": "code",
   "execution_count": 11,
   "metadata": {},
   "outputs": [],
   "source": [
    "import sqlite3\n",
    "\n",
    "con = sqlite3.connect('test.sqlite')"
   ]
  },
  {
   "cell_type": "code",
   "execution_count": 12,
   "metadata": {},
   "outputs": [],
   "source": [
    "try:\n",
    "    cur = con.cursor()\n",
    "    cur.execute(\"DROP TABLE IF EXISTS student\")\n",
    "    cur.execute(\"\"\"CREATE TABLE student (\n",
    "                   studentID CHAR(2),\n",
    "                   name TEXT (20) NOT NULL,\n",
    "                   age INTEGER,\n",
    "                   score REAL\n",
    "                    );\"\"\")\n",
    "except Exception as e:\n",
    "    print(e)"
   ]
  },
  {
   "cell_type": "code",
   "execution_count": 13,
   "metadata": {},
   "outputs": [
    {
     "data": {
      "text/plain": [
       "<sqlite3.Cursor at 0x1c1f7b38730>"
      ]
     },
     "execution_count": 13,
     "metadata": {},
     "output_type": "execute_result"
    }
   ],
   "source": [
    "cur = con.cursor()\n",
    "\n",
    "sql = \"INSERT INTO student (studentID, name,  age, score) VALUES(?, ?, ?, ?);\"\n",
    "student_data = [(\"A1\", \"홍길동\", 20, 70), (\"A2\", \"유병길\", 16, 80), (\"A3\", \"김길수\", 29, 90)]\n",
    "cur.executemany(sql, student_data)"
   ]
  },
  {
   "cell_type": "code",
   "execution_count": 14,
   "metadata": {},
   "outputs": [
    {
     "data": {
      "text/plain": [
       "<sqlite3.Cursor at 0x1c1f7b38730>"
      ]
     },
     "execution_count": 14,
     "metadata": {},
     "output_type": "execute_result"
    }
   ],
   "source": [
    "sql = \"SELECT * FROM student;\"\n",
    "cur.execute(sql)"
   ]
  },
  {
   "cell_type": "code",
   "execution_count": 15,
   "metadata": {},
   "outputs": [
    {
     "data": {
      "text/plain": [
       "[('A1', '홍길동', 20, 70.0), ('A2', '유병길', 16, 80.0), ('A3', '김길수', 29, 90.0)]"
      ]
     },
     "execution_count": 15,
     "metadata": {},
     "output_type": "execute_result"
    }
   ],
   "source": [
    "cur.fetchall()"
   ]
  },
  {
   "cell_type": "code",
   "execution_count": 16,
   "metadata": {},
   "outputs": [],
   "source": [
    "sql = \"INSERT INTO student (studentID, name,  age, score) VALUES('A4', '박재만', 26, 70);\""
   ]
  },
  {
   "cell_type": "code",
   "execution_count": 17,
   "metadata": {},
   "outputs": [
    {
     "data": {
      "text/plain": [
       "<sqlite3.Cursor at 0x1c1f7b38730>"
      ]
     },
     "execution_count": 17,
     "metadata": {},
     "output_type": "execute_result"
    }
   ],
   "source": [
    "cur.execute(sql)"
   ]
  },
  {
   "cell_type": "code",
   "execution_count": 18,
   "metadata": {},
   "outputs": [
    {
     "data": {
      "text/plain": [
       "[('A1', '홍길동', 20, 70.0),\n",
       " ('A2', '유병길', 16, 80.0),\n",
       " ('A3', '김길수', 29, 90.0),\n",
       " ('A4', '박재만', 26, 70.0)]"
      ]
     },
     "execution_count": 18,
     "metadata": {},
     "output_type": "execute_result"
    }
   ],
   "source": [
    "sql = \"SELECT * FROM student;\"\n",
    "cur.execute(sql)\n",
    "cur.fetchall()"
   ]
  },
  {
   "cell_type": "code",
   "execution_count": 19,
   "metadata": {},
   "outputs": [
    {
     "data": {
      "text/plain": [
       "<sqlite3.Cursor at 0x1c1f7b38730>"
      ]
     },
     "execution_count": 19,
     "metadata": {},
     "output_type": "execute_result"
    }
   ],
   "source": [
    "cur.execute(\"UPDATE student SET age=59 WHERE studentID = 'A3'\")"
   ]
  },
  {
   "cell_type": "code",
   "execution_count": 20,
   "metadata": {},
   "outputs": [
    {
     "data": {
      "text/plain": [
       "[('A1', '홍길동', 20, 70.0),\n",
       " ('A2', '유병길', 16, 80.0),\n",
       " ('A3', '김길수', 59, 90.0),\n",
       " ('A4', '박재만', 26, 70.0)]"
      ]
     },
     "execution_count": 20,
     "metadata": {},
     "output_type": "execute_result"
    }
   ],
   "source": [
    "sql = \"SELECT * FROM student;\"\n",
    "cur.execute(sql)\n",
    "cur.fetchall()"
   ]
  },
  {
   "cell_type": "code",
   "execution_count": 22,
   "metadata": {},
   "outputs": [
    {
     "data": {
      "text/plain": [
       "<sqlite3.Cursor at 0x1c1f7b38730>"
      ]
     },
     "execution_count": 22,
     "metadata": {},
     "output_type": "execute_result"
    }
   ],
   "source": [
    "cur.execute(\"DELETE FROM student WHERE studentID = 'A1'\")"
   ]
  },
  {
   "cell_type": "code",
   "execution_count": 23,
   "metadata": {},
   "outputs": [
    {
     "data": {
      "text/plain": [
       "[('A2', '유병길', 16, 80.0), ('A3', '김길수', 59, 90.0), ('A4', '박재만', 26, 70.0)]"
      ]
     },
     "execution_count": 23,
     "metadata": {},
     "output_type": "execute_result"
    }
   ],
   "source": [
    "sql = \"SELECT * FROM student;\"\n",
    "cur.execute(sql)\n",
    "cur.fetchall()"
   ]
  },
  {
   "cell_type": "code",
   "execution_count": null,
   "metadata": {},
   "outputs": [],
   "source": []
  }
 ],
 "metadata": {
  "kernelspec": {
   "display_name": "Python 3",
   "language": "python",
   "name": "python3"
  },
  "language_info": {
   "codemirror_mode": {
    "name": "ipython",
    "version": 3
   },
   "file_extension": ".py",
   "mimetype": "text/x-python",
   "name": "python",
   "nbconvert_exporter": "python",
   "pygments_lexer": "ipython3",
   "version": "3.7.6"
  }
 },
 "nbformat": 4,
 "nbformat_minor": 4
}
