{
 "cells": [
  {
   "cell_type": "code",
   "execution_count": 1,
   "metadata": {},
   "outputs": [],
   "source": [
    "import sqlite3\n",
    "con = sqlite3.connect('swdb.sqlite')\n",
    "cur = con.cursor()"
   ]
  },
  {
   "cell_type": "code",
   "execution_count": 2,
   "metadata": {},
   "outputs": [],
   "source": [
    "sql1 = \"\"\"\n",
    "CREATE TABLE DM_TBL (\n",
    "Dmno INT(8) NOT NULL,\n",
    "Custid VARCHAR(10),\n",
    "maildate DATE,\n",
    "contents VARCHAR(13),\n",
    "dept CHAR(2),\n",
    "grade CHAR(1),\n",
    "campaign CHAR(2),\n",
    "PRIMARY KEY(Dmno)\n",
    ")\n",
    "\"\"\""
   ]
  },
  {
   "cell_type": "code",
   "execution_count": 3,
   "metadata": {},
   "outputs": [],
   "source": [
    "sql2 = \"\"\"\n",
    "CREATE TABLE bookinfo_tbl(\n",
    "custid VARCHAR(10) NOT NULL,\n",
    "author VARCHAR(20),\n",
    "goods CHAR(2),\n",
    "phone VARCHAR(13),\n",
    "email VARCHAR(20),\n",
    "area VARCHAR(20),\n",
    "PRIMARY KEY(custid)\n",
    ")\n",
    "\"\"\""
   ]
  },
  {
   "cell_type": "code",
   "execution_count": 4,
   "metadata": {},
   "outputs": [
    {
     "name": "stdout",
     "output_type": "stream",
     "text": [
      "table created successfully\n"
     ]
    }
   ],
   "source": [
    "try:        \n",
    "    cur.execute(\"DROP TABLE IF EXISTS DM_TBL\")\n",
    "    cur.execute(\"DROP TABLE IF EXISTS bookinfo_tbl\")\n",
    "    cur.execute(sql1)\n",
    "    cur.execute(sql2)\n",
    "    print ('table created successfully')\n",
    "except Exception as e:\n",
    "    print ('error in operation, ', e)\n",
    "    con.rollback()\n",
    "    con.close()"
   ]
  },
  {
   "cell_type": "code",
   "execution_count": 5,
   "metadata": {},
   "outputs": [],
   "source": [
    "sql = \"\"\"\n",
    "INSERT INTO DM_TBL (Dmno, custid, maildate, contents, dept,grade, campaign) \n",
    "            VALUES(?, ?, ?, ?, ?, ?, ?);\n",
    "\"\"\"\n",
    "data = [(1, \"aaa\", '2017-12-01','안녕하세요?', '10', '1', 'C'),\n",
    "        (2, \"bbb\", '2017-12-01','안녕하세요?', '10', '1', 'C1'),\n",
    "        (3, \"ccc\", '2017-12-01','안녕하세요?', '10', '1', 'C1'),\n",
    "        (4, \"ddd\", '2017-12-24','안녕하세요?', '20', 'V', 'C2'),\n",
    "        (5, \"eee\", '2017-12-24','안녕하세요?', '20', 'VV', 'C2'),\n",
    "        (6, \"fff\", '2017-12-24','안녕하세요?', '30', '1', 'C2')\n",
    "       ]"
   ]
  },
  {
   "cell_type": "code",
   "execution_count": 6,
   "metadata": {},
   "outputs": [
    {
     "data": {
      "text/plain": [
       "<sqlite3.Cursor at 0x1f2acd71500>"
      ]
     },
     "execution_count": 6,
     "metadata": {},
     "output_type": "execute_result"
    }
   ],
   "source": [
    "cur.executemany(sql, data)"
   ]
  },
  {
   "cell_type": "code",
   "execution_count": 8,
   "metadata": {},
   "outputs": [
    {
     "data": {
      "text/plain": [
       "(1, 'aaa', '2017-12-01', '안녕하세요?', '10', '1', 'C')"
      ]
     },
     "execution_count": 8,
     "metadata": {},
     "output_type": "execute_result"
    }
   ],
   "source": [
    "cur.execute('SELECT * FROM DM_TBL')\n",
    "cur.fetchone()"
   ]
  },
  {
   "cell_type": "code",
   "execution_count": 9,
   "metadata": {},
   "outputs": [
    {
     "data": {
      "text/plain": [
       "(2, 'bbb', '2017-12-01', '안녕하세요?', '10', '1', 'C1')"
      ]
     },
     "execution_count": 9,
     "metadata": {},
     "output_type": "execute_result"
    }
   ],
   "source": [
    "cur.fetchone()"
   ]
  },
  {
   "cell_type": "code",
   "execution_count": 10,
   "metadata": {},
   "outputs": [
    {
     "data": {
      "text/plain": [
       "(3, 'ccc', '2017-12-01', '안녕하세요?', '10', '1', 'C1')"
      ]
     },
     "execution_count": 10,
     "metadata": {},
     "output_type": "execute_result"
    }
   ],
   "source": [
    "cur.fetchone()"
   ]
  },
  {
   "cell_type": "code",
   "execution_count": 11,
   "metadata": {},
   "outputs": [
    {
     "data": {
      "text/plain": [
       "[(4, 'ddd', '2017-12-24', '안녕하세요?', '20', 'V', 'C2'),\n",
       " (5, 'eee', '2017-12-24', '안녕하세요?', '20', 'VV', 'C2'),\n",
       " (6, 'fff', '2017-12-24', '안녕하세요?', '30', '1', 'C2')]"
      ]
     },
     "execution_count": 11,
     "metadata": {},
     "output_type": "execute_result"
    }
   ],
   "source": [
    "cur.fetchall()"
   ]
  },
  {
   "cell_type": "code",
   "execution_count": 12,
   "metadata": {},
   "outputs": [],
   "source": [
    "sql = \"\"\"\n",
    "INSERT INTO bookinfo_tbl(custid, author, goods, phone, email, area) \n",
    "            VALUES(?, ?, ?, ?, ?, ?);\n",
    "\"\"\"\n",
    "\n",
    "data = [(\"aaa\", '김고객','의류', '010-1111-1111', 'aaa@korea.com', '서울'),\n",
    "       (\"bbb\", '이고객','의류', '010-1111-1112', 'bbb@korea.com', '서울'),\n",
    "        (\"ccc\", '박고객','식료품', '010-1111-1113', 'ccc@korea.com', '경기'),\n",
    "        (\"ddd\", '홍고객','공산품', '010-1111-1114', 'ddd@korea.com', '대전'),\n",
    "        (\"eee\", '조고객','컴퓨터', '010-1111-1115', 'eee@korea.com', '대전'),\n",
    "        (\"fff\", '백고객','관광', '010-1111-1116', 'fff@korea.com', '울산')\n",
    "       ]"
   ]
  },
  {
   "cell_type": "code",
   "execution_count": 13,
   "metadata": {},
   "outputs": [
    {
     "data": {
      "text/plain": [
       "<sqlite3.Cursor at 0x1f2acd71500>"
      ]
     },
     "execution_count": 13,
     "metadata": {},
     "output_type": "execute_result"
    }
   ],
   "source": [
    "cur.executemany(sql, data)"
   ]
  },
  {
   "cell_type": "code",
   "execution_count": 14,
   "metadata": {},
   "outputs": [
    {
     "data": {
      "text/plain": [
       "[('aaa', '김고객', '의류', '010-1111-1111', 'aaa@korea.com', '서울'),\n",
       " ('bbb', '이고객', '의류', '010-1111-1112', 'bbb@korea.com', '서울'),\n",
       " ('ccc', '박고객', '식료품', '010-1111-1113', 'ccc@korea.com', '경기'),\n",
       " ('ddd', '홍고객', '공산품', '010-1111-1114', 'ddd@korea.com', '대전'),\n",
       " ('eee', '조고객', '컴퓨터', '010-1111-1115', 'eee@korea.com', '대전'),\n",
       " ('fff', '백고객', '관광', '010-1111-1116', 'fff@korea.com', '울산')]"
      ]
     },
     "execution_count": 14,
     "metadata": {},
     "output_type": "execute_result"
    }
   ],
   "source": [
    "cur.execute('SELECT * FROM bookinfo_tbl')\n",
    "cur.fetchall()"
   ]
  },
  {
   "cell_type": "code",
   "execution_count": 15,
   "metadata": {},
   "outputs": [],
   "source": [
    "sql = \"\"\"\n",
    "SELECT DM_TBL.custid, author, maildate, \n",
    "        contents, campaign FROM DM_TBL, bookinfo_tbl\n",
    "        where DM_TBL.custid = bookinfo_tbl.custid\n",
    "\"\"\""
   ]
  },
  {
   "cell_type": "code",
   "execution_count": 16,
   "metadata": {},
   "outputs": [
    {
     "data": {
      "text/plain": [
       "<sqlite3.Cursor at 0x1f2acd71500>"
      ]
     },
     "execution_count": 16,
     "metadata": {},
     "output_type": "execute_result"
    }
   ],
   "source": [
    "cur.execute(sql)"
   ]
  },
  {
   "cell_type": "code",
   "execution_count": 17,
   "metadata": {},
   "outputs": [
    {
     "data": {
      "text/plain": [
       "[('aaa', '김고객', '2017-12-01', '안녕하세요?', 'C'),\n",
       " ('bbb', '이고객', '2017-12-01', '안녕하세요?', 'C1'),\n",
       " ('ccc', '박고객', '2017-12-01', '안녕하세요?', 'C1'),\n",
       " ('ddd', '홍고객', '2017-12-24', '안녕하세요?', 'C2'),\n",
       " ('eee', '조고객', '2017-12-24', '안녕하세요?', 'C2'),\n",
       " ('fff', '백고객', '2017-12-24', '안녕하세요?', 'C2')]"
      ]
     },
     "execution_count": 17,
     "metadata": {},
     "output_type": "execute_result"
    }
   ],
   "source": [
    "cur.fetchall()"
   ]
  },
  {
   "cell_type": "code",
   "execution_count": 18,
   "metadata": {},
   "outputs": [],
   "source": [
    "sql = \"\"\"\n",
    "SELECT area, count(1) FROM DM_TBL, bookinfo_tbl\n",
    "        where DM_TBL.custid = bookinfo_tbl.custid\n",
    "        GROUP BY area\n",
    "\"\"\""
   ]
  },
  {
   "cell_type": "code",
   "execution_count": 19,
   "metadata": {},
   "outputs": [
    {
     "data": {
      "text/plain": [
       "<sqlite3.Cursor at 0x1f2acd71500>"
      ]
     },
     "execution_count": 19,
     "metadata": {},
     "output_type": "execute_result"
    }
   ],
   "source": [
    "cur.execute(sql)"
   ]
  },
  {
   "cell_type": "code",
   "execution_count": 20,
   "metadata": {},
   "outputs": [
    {
     "data": {
      "text/plain": [
       "[('경기', 1), ('대전', 2), ('서울', 2), ('울산', 1)]"
      ]
     },
     "execution_count": 20,
     "metadata": {},
     "output_type": "execute_result"
    }
   ],
   "source": [
    "cur.fetchall()"
   ]
  },
  {
   "cell_type": "code",
   "execution_count": null,
   "metadata": {},
   "outputs": [],
   "source": []
  },
  {
   "cell_type": "code",
   "execution_count": null,
   "metadata": {},
   "outputs": [],
   "source": []
  }
 ],
 "metadata": {
  "kernelspec": {
   "display_name": "Python 3",
   "language": "python",
   "name": "python3"
  },
  "language_info": {
   "codemirror_mode": {
    "name": "ipython",
    "version": 3
   },
   "file_extension": ".py",
   "mimetype": "text/x-python",
   "name": "python",
   "nbconvert_exporter": "python",
   "pygments_lexer": "ipython3",
   "version": "3.8.3"
  }
 },
 "nbformat": 4,
 "nbformat_minor": 4
}
